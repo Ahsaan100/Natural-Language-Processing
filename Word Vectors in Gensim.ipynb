{
 "cells": [
  {
   "cell_type": "markdown",
   "id": "a48b8551",
   "metadata": {},
   "source": [
    "# Word Vectors Overview Using Gensim Library"
   ]
  },
  {
   "cell_type": "code",
   "execution_count": 1,
   "id": "1053a127",
   "metadata": {},
   "outputs": [],
   "source": [
    "import gensim.downloader as api\n",
    "# This is a huge model (~1.6 gb) and it will take some time to load\n",
    "\n",
    "wv = api.load('word2vec-google-news-300')"
   ]
  },
  {
   "cell_type": "code",
   "execution_count": 7,
   "id": "556b06fc",
   "metadata": {},
   "outputs": [
    {
     "data": {
      "text/plain": [
       "0.729151"
      ]
     },
     "execution_count": 7,
     "metadata": {},
     "output_type": "execute_result"
    }
   ],
   "source": [
    "wv.similarity(w1 = 'great' , w2 = 'good')"
   ]
  },
  {
   "cell_type": "code",
   "execution_count": 12,
   "id": "196a0726",
   "metadata": {},
   "outputs": [
    {
     "data": {
      "text/plain": [
       "0.34199455"
      ]
     },
     "execution_count": 12,
     "metadata": {},
     "output_type": "execute_result"
    }
   ],
   "source": [
    "wv.similarity(w1 = 'profit' , w2 = 'loss')"
   ]
  },
  {
   "cell_type": "code",
   "execution_count": 13,
   "id": "04e8c491",
   "metadata": {},
   "outputs": [
    {
     "data": {
      "text/plain": [
       "[('great', 0.7291510105133057),\n",
       " ('bad', 0.7190051078796387),\n",
       " ('terrific', 0.6889115571975708),\n",
       " ('decent', 0.6837348341941833),\n",
       " ('nice', 0.6836092472076416),\n",
       " ('excellent', 0.644292950630188),\n",
       " ('fantastic', 0.6407778263092041),\n",
       " ('better', 0.6120728850364685),\n",
       " ('solid', 0.5806034803390503),\n",
       " ('lousy', 0.576420247554779)]"
      ]
     },
     "execution_count": 13,
     "metadata": {},
     "output_type": "execute_result"
    }
   ],
   "source": [
    "wv.most_similar('good')"
   ]
  },
  {
   "cell_type": "code",
   "execution_count": 14,
   "id": "81d81b58",
   "metadata": {},
   "outputs": [
    {
     "data": {
      "text/plain": [
       "[('dogs', 0.8680489659309387),\n",
       " ('puppy', 0.8106428384780884),\n",
       " ('pit_bull', 0.780396044254303),\n",
       " ('pooch', 0.7627376914024353),\n",
       " ('cat', 0.7609457969665527),\n",
       " ('golden_retriever', 0.7500901818275452),\n",
       " ('German_shepherd', 0.7465174198150635),\n",
       " ('Rottweiler', 0.7437615394592285),\n",
       " ('beagle', 0.7418621778488159),\n",
       " ('pup', 0.740691065788269)]"
      ]
     },
     "execution_count": 14,
     "metadata": {},
     "output_type": "execute_result"
    }
   ],
   "source": [
    "wv.most_similar(\"dog\")"
   ]
  },
  {
   "cell_type": "code",
   "execution_count": 18,
   "id": "25052827",
   "metadata": {},
   "outputs": [
    {
     "data": {
      "text/plain": [
       "[('queen', 0.7118193507194519),\n",
       " ('monarch', 0.6189674139022827),\n",
       " ('princess', 0.5902431011199951),\n",
       " ('crown_prince', 0.5499460697174072),\n",
       " ('prince', 0.5377321839332581)]"
      ]
     },
     "execution_count": 18,
     "metadata": {},
     "output_type": "execute_result"
    }
   ],
   "source": [
    "wv.most_similar(positive=['king', 'woman'], negative=['man'],topn = 5)"
   ]
  },
  {
   "cell_type": "code",
   "execution_count": 16,
   "id": "9cbc5604",
   "metadata": {},
   "outputs": [
    {
     "data": {
      "text/plain": [
       "'CAT'"
      ]
     },
     "execution_count": 16,
     "metadata": {},
     "output_type": "execute_result"
    }
   ],
   "source": [
    "wv.doesnt_match(['FACEBOOK', 'CAT', 'MICROSOFT','AMAZON'])"
   ]
  },
  {
   "cell_type": "code",
   "execution_count": 19,
   "id": "c91879f8",
   "metadata": {},
   "outputs": [
    {
     "data": {
      "text/plain": [
       "'google'"
      ]
     },
     "execution_count": 19,
     "metadata": {},
     "output_type": "execute_result"
    }
   ],
   "source": [
    "wv.doesnt_match([\"dog\", \"cat\", \"google\", \"mouse\"])"
   ]
  },
  {
   "cell_type": "markdown",
   "id": "0e0f8a9c",
   "metadata": {},
   "source": [
    "# Gensim Glove Model"
   ]
  },
  {
   "cell_type": "code",
   "execution_count": 20,
   "id": "379bc8a8",
   "metadata": {},
   "outputs": [
    {
     "name": "stdout",
     "output_type": "stream",
     "text": [
      "[==================================================] 100.0% 104.8/104.8MB downloaded\n"
     ]
    }
   ],
   "source": [
    "glv = api.load(\"glove-twitter-25\")"
   ]
  },
  {
   "cell_type": "code",
   "execution_count": 21,
   "id": "96de92a2",
   "metadata": {},
   "outputs": [
    {
     "data": {
      "text/plain": [
       "0.9378517"
      ]
     },
     "execution_count": 21,
     "metadata": {},
     "output_type": "execute_result"
    }
   ],
   "source": [
    "glv.similarity(w1 = 'great' , w2 = 'good')"
   ]
  },
  {
   "cell_type": "code",
   "execution_count": 22,
   "id": "5f1405a7",
   "metadata": {},
   "outputs": [
    {
     "data": {
      "text/plain": [
       "0.7385474"
      ]
     },
     "execution_count": 22,
     "metadata": {},
     "output_type": "execute_result"
    }
   ],
   "source": [
    "glv.similarity(w1 = 'profit' , w2 = 'loss')"
   ]
  },
  {
   "cell_type": "code",
   "execution_count": 23,
   "id": "8d20fff2",
   "metadata": {},
   "outputs": [
    {
     "data": {
      "text/plain": [
       "[('too', 0.9648017287254333),\n",
       " ('day', 0.9533665180206299),\n",
       " ('well', 0.9503170847892761),\n",
       " ('nice', 0.9438973665237427),\n",
       " ('better', 0.9425962567329407),\n",
       " ('fun', 0.9418926239013672),\n",
       " ('much', 0.9413353800773621),\n",
       " ('this', 0.9387555122375488),\n",
       " ('hope', 0.9383506774902344),\n",
       " ('great', 0.9378516674041748)]"
      ]
     },
     "execution_count": 23,
     "metadata": {},
     "output_type": "execute_result"
    }
   ],
   "source": [
    "glv.most_similar(\"good\")"
   ]
  },
  {
   "cell_type": "code",
   "execution_count": 27,
   "id": "484c19c7",
   "metadata": {},
   "outputs": [
    {
     "data": {
      "text/plain": [
       "'cereal'"
      ]
     },
     "execution_count": 27,
     "metadata": {},
     "output_type": "execute_result"
    }
   ],
   "source": [
    "glv.doesnt_match(\"breakfast cereal dinner lunch\".split())"
   ]
  },
  {
   "cell_type": "code",
   "execution_count": 28,
   "id": "75b14f1b",
   "metadata": {},
   "outputs": [
    {
     "data": {
      "text/plain": [
       "'cat'"
      ]
     },
     "execution_count": 28,
     "metadata": {},
     "output_type": "execute_result"
    }
   ],
   "source": [
    "glv.doesnt_match(\"facebook cat google microsoft\".split())"
   ]
  },
  {
   "cell_type": "code",
   "execution_count": 29,
   "id": "6cb08b23",
   "metadata": {},
   "outputs": [
    {
     "data": {
      "text/plain": [
       "'human'"
      ]
     },
     "execution_count": 29,
     "metadata": {},
     "output_type": "execute_result"
    }
   ],
   "source": [
    "glv.doesnt_match(\"banana grapes orange human\".split())"
   ]
  },
  {
   "cell_type": "code",
   "execution_count": null,
   "id": "4031cbff",
   "metadata": {},
   "outputs": [],
   "source": []
  }
 ],
 "metadata": {
  "kernelspec": {
   "display_name": "Python 3 (ipykernel)",
   "language": "python",
   "name": "python3"
  },
  "language_info": {
   "codemirror_mode": {
    "name": "ipython",
    "version": 3
   },
   "file_extension": ".py",
   "mimetype": "text/x-python",
   "name": "python",
   "nbconvert_exporter": "python",
   "pygments_lexer": "ipython3",
   "version": "3.8.16"
  }
 },
 "nbformat": 4,
 "nbformat_minor": 5
}
